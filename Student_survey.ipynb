{
 "cells": [
  {
   "cell_type": "code",
   "execution_count": 389,
   "id": "41e257ce-870a-4bf3-a5d5-41b2b2225996",
   "metadata": {},
   "outputs": [],
   "source": [
    "import numpy as np\n",
    "import pandas as pd\n",
    "import matplotlib.pyplot as plt\n",
    "import seaborn as sns"
   ]
  },
  {
   "cell_type": "code",
   "execution_count": 390,
   "id": "3d7951a7-ae5c-44e3-bf9a-883a5b82ec68",
   "metadata": {},
   "outputs": [
    {
     "data": {
      "text/html": [
       "<div>\n",
       "<style scoped>\n",
       "    .dataframe tbody tr th:only-of-type {\n",
       "        vertical-align: middle;\n",
       "    }\n",
       "\n",
       "    .dataframe tbody tr th {\n",
       "        vertical-align: top;\n",
       "    }\n",
       "\n",
       "    .dataframe thead th {\n",
       "        text-align: right;\n",
       "    }\n",
       "</style>\n",
       "<table border=\"1\" class=\"dataframe\">\n",
       "  <thead>\n",
       "    <tr style=\"text-align: right;\">\n",
       "      <th></th>\n",
       "      <th>Roll</th>\n",
       "      <th>Adm</th>\n",
       "      <th>Std</th>\n",
       "      <th>Sec</th>\n",
       "      <th>Age</th>\n",
       "      <th>Gen</th>\n",
       "      <th>Place</th>\n",
       "      <th>Faage</th>\n",
       "      <th>Faedu</th>\n",
       "      <th>Faocc</th>\n",
       "      <th>...</th>\n",
       "      <th>Work</th>\n",
       "      <th>Travel</th>\n",
       "      <th>Tran</th>\n",
       "      <th>Phy</th>\n",
       "      <th>Men</th>\n",
       "      <th>Sleep</th>\n",
       "      <th>Goout</th>\n",
       "      <th>Phone</th>\n",
       "      <th>Somed</th>\n",
       "      <th>Phohr</th>\n",
       "    </tr>\n",
       "  </thead>\n",
       "  <tbody>\n",
       "    <tr>\n",
       "      <th>0</th>\n",
       "      <td>6A001</td>\n",
       "      <td>1416.0</td>\n",
       "      <td>6</td>\n",
       "      <td>1</td>\n",
       "      <td>11</td>\n",
       "      <td>2</td>\n",
       "      <td>23</td>\n",
       "      <td>51.0</td>\n",
       "      <td>5</td>\n",
       "      <td>3</td>\n",
       "      <td>...</td>\n",
       "      <td>No</td>\n",
       "      <td>55</td>\n",
       "      <td>2</td>\n",
       "      <td>4</td>\n",
       "      <td>5</td>\n",
       "      <td>7.0</td>\n",
       "      <td>0</td>\n",
       "      <td>2</td>\n",
       "      <td>1</td>\n",
       "      <td>0</td>\n",
       "    </tr>\n",
       "    <tr>\n",
       "      <th>1</th>\n",
       "      <td>6A002</td>\n",
       "      <td>1425.0</td>\n",
       "      <td>6</td>\n",
       "      <td>1</td>\n",
       "      <td>11</td>\n",
       "      <td>2</td>\n",
       "      <td>1</td>\n",
       "      <td>38.0</td>\n",
       "      <td>6</td>\n",
       "      <td>2</td>\n",
       "      <td>...</td>\n",
       "      <td>No</td>\n",
       "      <td>15</td>\n",
       "      <td>4</td>\n",
       "      <td>5</td>\n",
       "      <td>5</td>\n",
       "      <td>9.0</td>\n",
       "      <td>1</td>\n",
       "      <td>2</td>\n",
       "      <td>1</td>\n",
       "      <td>0</td>\n",
       "    </tr>\n",
       "    <tr>\n",
       "      <th>2</th>\n",
       "      <td>6A003</td>\n",
       "      <td>1417.0</td>\n",
       "      <td>6</td>\n",
       "      <td>1</td>\n",
       "      <td>10</td>\n",
       "      <td>2</td>\n",
       "      <td>34</td>\n",
       "      <td>44.0</td>\n",
       "      <td>5</td>\n",
       "      <td>2</td>\n",
       "      <td>...</td>\n",
       "      <td>No</td>\n",
       "      <td>1</td>\n",
       "      <td>2</td>\n",
       "      <td>5</td>\n",
       "      <td>5</td>\n",
       "      <td>9.0</td>\n",
       "      <td>1</td>\n",
       "      <td>2</td>\n",
       "      <td>1</td>\n",
       "      <td>0</td>\n",
       "    </tr>\n",
       "    <tr>\n",
       "      <th>3</th>\n",
       "      <td>6A004</td>\n",
       "      <td>1410.0</td>\n",
       "      <td>6</td>\n",
       "      <td>1</td>\n",
       "      <td>11</td>\n",
       "      <td>2</td>\n",
       "      <td>5</td>\n",
       "      <td>37.0</td>\n",
       "      <td>6</td>\n",
       "      <td>3</td>\n",
       "      <td>...</td>\n",
       "      <td>No</td>\n",
       "      <td>5</td>\n",
       "      <td>2</td>\n",
       "      <td>3</td>\n",
       "      <td>2</td>\n",
       "      <td>8.0</td>\n",
       "      <td>2</td>\n",
       "      <td>2</td>\n",
       "      <td>2</td>\n",
       "      <td>1</td>\n",
       "    </tr>\n",
       "    <tr>\n",
       "      <th>4</th>\n",
       "      <td>6A005</td>\n",
       "      <td>1421.0</td>\n",
       "      <td>6</td>\n",
       "      <td>1</td>\n",
       "      <td>11</td>\n",
       "      <td>2</td>\n",
       "      <td>23</td>\n",
       "      <td>36.0</td>\n",
       "      <td>7</td>\n",
       "      <td>6</td>\n",
       "      <td>...</td>\n",
       "      <td>No</td>\n",
       "      <td>30</td>\n",
       "      <td>2</td>\n",
       "      <td>5</td>\n",
       "      <td>5</td>\n",
       "      <td>8.0</td>\n",
       "      <td>1</td>\n",
       "      <td>1</td>\n",
       "      <td>3</td>\n",
       "      <td>1</td>\n",
       "    </tr>\n",
       "  </tbody>\n",
       "</table>\n",
       "<p>5 rows × 47 columns</p>\n",
       "</div>"
      ],
      "text/plain": [
       "    Roll     Adm  Std  Sec Age Gen Place  Faage  Faedu  Faocc  ...  Work  \\\n",
       "0  6A001  1416.0    6    1  11   2    23   51.0      5      3  ...    No   \n",
       "1  6A002  1425.0    6    1  11   2     1   38.0      6      2  ...    No   \n",
       "2  6A003  1417.0    6    1  10   2    34   44.0      5      2  ...    No   \n",
       "3  6A004  1410.0    6    1  11   2     5   37.0      6      3  ...    No   \n",
       "4  6A005  1421.0    6    1  11   2    23   36.0      7      6  ...    No   \n",
       "\n",
       "   Travel  Tran Phy  Men  Sleep Goout  Phone  Somed  Phohr  \n",
       "0      55     2   4    5    7.0     0      2      1      0  \n",
       "1      15     4   5    5    9.0     1      2      1      0  \n",
       "2       1     2   5    5    9.0     1      2      1      0  \n",
       "3       5     2   3    2    8.0     2      2      2      1  \n",
       "4      30     2   5    5    8.0     1      1      3      1  \n",
       "\n",
       "[5 rows x 47 columns]"
      ]
     },
     "execution_count": 390,
     "metadata": {},
     "output_type": "execute_result"
    }
   ],
   "source": [
    "df=pd.read_csv(\"C:\\jupytercsv\\student.csv\")\n",
    "df.head()"
   ]
  },
  {
   "cell_type": "code",
   "execution_count": 391,
   "id": "5adbcaa5-5a99-4ced-a852-528ad4fece81",
   "metadata": {},
   "outputs": [
    {
     "name": "stdout",
     "output_type": "stream",
     "text": [
      "<class 'pandas.core.frame.DataFrame'>\n",
      "RangeIndex: 350 entries, 0 to 349\n",
      "Data columns (total 47 columns):\n",
      " #   Column    Non-Null Count  Dtype  \n",
      "---  ------    --------------  -----  \n",
      " 0   Roll      350 non-null    object \n",
      " 1   Adm       323 non-null    float64\n",
      " 2   Std       350 non-null    int64  \n",
      " 3   Sec       350 non-null    int64  \n",
      " 4   Age       350 non-null    object \n",
      " 5   Gen       350 non-null    object \n",
      " 6   Place     350 non-null    object \n",
      " 7   Faage     349 non-null    float64\n",
      " 8   Faedu     350 non-null    int64  \n",
      " 9   Faocc     350 non-null    int64  \n",
      " 10  Fasal     350 non-null    int64  \n",
      " 11  Moage     350 non-null    int64  \n",
      " 12  Moedu     350 non-null    int64  \n",
      " 13  Moocc     350 non-null    object \n",
      " 14  Mosal     350 non-null    int64  \n",
      " 15  Stay      350 non-null    int64  \n",
      " 16  Famtyp    347 non-null    object \n",
      " 17  Count     350 non-null    int64  \n",
      " 18  Pamas     350 non-null    int64  \n",
      " 19  Famrel    350 non-null    int64  \n",
      " 20  Loved     350 non-null    int64  \n",
      " 21  Mosup     350 non-null    int64  \n",
      " 22  Fasup     350 non-null    int64  \n",
      " 23  Sib       350 non-null    int64  \n",
      " 24  Eldbro    350 non-null    int64  \n",
      " 25  Yourbro   350 non-null    int64  \n",
      " 26  Eldsis    350 non-null    int64  \n",
      " 27  Yousis    350 non-null    int64  \n",
      " 28  Sibsup    350 non-null    int64  \n",
      " 29  Pateet    350 non-null    int64  \n",
      " 30  Tuit      350 non-null    int64  \n",
      " 31  Extra     350 non-null    int64  \n",
      " 32  Study     350 non-null    int64  \n",
      " 33  Eduqu     350 non-null    int64  \n",
      " 34  Higher    350 non-null    int64  \n",
      " 35  Highhind  348 non-null    object \n",
      " 36  Attper    334 non-null    float64\n",
      " 37  Work      350 non-null    object \n",
      " 38  Travel    342 non-null    object \n",
      " 39  Tran      350 non-null    int64  \n",
      " 40  Phy       350 non-null    int64  \n",
      " 41  Men       350 non-null    int64  \n",
      " 42  Sleep     349 non-null    float64\n",
      " 43  Goout     350 non-null    int64  \n",
      " 44  Phone     350 non-null    int64  \n",
      " 45  Somed     350 non-null    int64  \n",
      " 46  Phohr     350 non-null    object \n",
      "dtypes: float64(4), int64(33), object(10)\n",
      "memory usage: 128.6+ KB\n"
     ]
    }
   ],
   "source": [
    "df.info()"
   ]
  },
  {
   "cell_type": "code",
   "execution_count": 392,
   "id": "a1234be3-54f9-4b5a-aedd-e48945bb342c",
   "metadata": {},
   "outputs": [
    {
     "data": {
      "text/html": [
       "<div>\n",
       "<style scoped>\n",
       "    .dataframe tbody tr th:only-of-type {\n",
       "        vertical-align: middle;\n",
       "    }\n",
       "\n",
       "    .dataframe tbody tr th {\n",
       "        vertical-align: top;\n",
       "    }\n",
       "\n",
       "    .dataframe thead th {\n",
       "        text-align: right;\n",
       "    }\n",
       "</style>\n",
       "<table border=\"1\" class=\"dataframe\">\n",
       "  <thead>\n",
       "    <tr style=\"text-align: right;\">\n",
       "      <th></th>\n",
       "      <th>Roll</th>\n",
       "      <th>Adm</th>\n",
       "      <th>Std</th>\n",
       "      <th>Sec</th>\n",
       "      <th>Age</th>\n",
       "      <th>Gen</th>\n",
       "      <th>Place</th>\n",
       "      <th>Faage</th>\n",
       "      <th>Faedu</th>\n",
       "      <th>Faocc</th>\n",
       "      <th>...</th>\n",
       "      <th>Work</th>\n",
       "      <th>Travel</th>\n",
       "      <th>Tran</th>\n",
       "      <th>Phy</th>\n",
       "      <th>Men</th>\n",
       "      <th>Sleep</th>\n",
       "      <th>Goout</th>\n",
       "      <th>Phone</th>\n",
       "      <th>Somed</th>\n",
       "      <th>Phohr</th>\n",
       "    </tr>\n",
       "  </thead>\n",
       "  <tbody>\n",
       "    <tr>\n",
       "      <th>count</th>\n",
       "      <td>350</td>\n",
       "      <td>323.000000</td>\n",
       "      <td>350.000000</td>\n",
       "      <td>350.000000</td>\n",
       "      <td>350</td>\n",
       "      <td>350</td>\n",
       "      <td>350</td>\n",
       "      <td>349.000000</td>\n",
       "      <td>350.000000</td>\n",
       "      <td>350.000000</td>\n",
       "      <td>...</td>\n",
       "      <td>350</td>\n",
       "      <td>342</td>\n",
       "      <td>350.000000</td>\n",
       "      <td>350.000000</td>\n",
       "      <td>350.000000</td>\n",
       "      <td>349.000000</td>\n",
       "      <td>350.000000</td>\n",
       "      <td>350.000000</td>\n",
       "      <td>350.00000</td>\n",
       "      <td>350</td>\n",
       "    </tr>\n",
       "    <tr>\n",
       "      <th>unique</th>\n",
       "      <td>343</td>\n",
       "      <td>NaN</td>\n",
       "      <td>NaN</td>\n",
       "      <td>NaN</td>\n",
       "      <td>12</td>\n",
       "      <td>5</td>\n",
       "      <td>31</td>\n",
       "      <td>NaN</td>\n",
       "      <td>NaN</td>\n",
       "      <td>NaN</td>\n",
       "      <td>...</td>\n",
       "      <td>6</td>\n",
       "      <td>21</td>\n",
       "      <td>NaN</td>\n",
       "      <td>NaN</td>\n",
       "      <td>NaN</td>\n",
       "      <td>NaN</td>\n",
       "      <td>NaN</td>\n",
       "      <td>NaN</td>\n",
       "      <td>NaN</td>\n",
       "      <td>13</td>\n",
       "    </tr>\n",
       "    <tr>\n",
       "      <th>top</th>\n",
       "      <td>9C018</td>\n",
       "      <td>NaN</td>\n",
       "      <td>NaN</td>\n",
       "      <td>NaN</td>\n",
       "      <td>16</td>\n",
       "      <td>1</td>\n",
       "      <td>1</td>\n",
       "      <td>NaN</td>\n",
       "      <td>NaN</td>\n",
       "      <td>NaN</td>\n",
       "      <td>...</td>\n",
       "      <td>No</td>\n",
       "      <td>15</td>\n",
       "      <td>NaN</td>\n",
       "      <td>NaN</td>\n",
       "      <td>NaN</td>\n",
       "      <td>NaN</td>\n",
       "      <td>NaN</td>\n",
       "      <td>NaN</td>\n",
       "      <td>NaN</td>\n",
       "      <td>0</td>\n",
       "    </tr>\n",
       "    <tr>\n",
       "      <th>freq</th>\n",
       "      <td>2</td>\n",
       "      <td>NaN</td>\n",
       "      <td>NaN</td>\n",
       "      <td>NaN</td>\n",
       "      <td>60</td>\n",
       "      <td>214</td>\n",
       "      <td>113</td>\n",
       "      <td>NaN</td>\n",
       "      <td>NaN</td>\n",
       "      <td>NaN</td>\n",
       "      <td>...</td>\n",
       "      <td>307</td>\n",
       "      <td>77</td>\n",
       "      <td>NaN</td>\n",
       "      <td>NaN</td>\n",
       "      <td>NaN</td>\n",
       "      <td>NaN</td>\n",
       "      <td>NaN</td>\n",
       "      <td>NaN</td>\n",
       "      <td>NaN</td>\n",
       "      <td>152</td>\n",
       "    </tr>\n",
       "    <tr>\n",
       "      <th>mean</th>\n",
       "      <td>NaN</td>\n",
       "      <td>1109.817337</td>\n",
       "      <td>8.882857</td>\n",
       "      <td>1.897143</td>\n",
       "      <td>NaN</td>\n",
       "      <td>NaN</td>\n",
       "      <td>NaN</td>\n",
       "      <td>44.217765</td>\n",
       "      <td>5.380000</td>\n",
       "      <td>3.428571</td>\n",
       "      <td>...</td>\n",
       "      <td>NaN</td>\n",
       "      <td>NaN</td>\n",
       "      <td>2.177143</td>\n",
       "      <td>4.200000</td>\n",
       "      <td>4.105714</td>\n",
       "      <td>7.979943</td>\n",
       "      <td>1.211429</td>\n",
       "      <td>1.714286</td>\n",
       "      <td>1.80000</td>\n",
       "      <td>NaN</td>\n",
       "    </tr>\n",
       "    <tr>\n",
       "      <th>std</th>\n",
       "      <td>NaN</td>\n",
       "      <td>347.672109</td>\n",
       "      <td>2.046870</td>\n",
       "      <td>0.783602</td>\n",
       "      <td>NaN</td>\n",
       "      <td>NaN</td>\n",
       "      <td>NaN</td>\n",
       "      <td>6.635729</td>\n",
       "      <td>1.726633</td>\n",
       "      <td>1.651356</td>\n",
       "      <td>...</td>\n",
       "      <td>NaN</td>\n",
       "      <td>NaN</td>\n",
       "      <td>0.988497</td>\n",
       "      <td>1.189736</td>\n",
       "      <td>1.267953</td>\n",
       "      <td>0.998360</td>\n",
       "      <td>1.921343</td>\n",
       "      <td>0.452401</td>\n",
       "      <td>1.21594</td>\n",
       "      <td>NaN</td>\n",
       "    </tr>\n",
       "    <tr>\n",
       "      <th>min</th>\n",
       "      <td>NaN</td>\n",
       "      <td>523.000000</td>\n",
       "      <td>6.000000</td>\n",
       "      <td>1.000000</td>\n",
       "      <td>NaN</td>\n",
       "      <td>NaN</td>\n",
       "      <td>NaN</td>\n",
       "      <td>-1.000000</td>\n",
       "      <td>-1.000000</td>\n",
       "      <td>-1.000000</td>\n",
       "      <td>...</td>\n",
       "      <td>NaN</td>\n",
       "      <td>NaN</td>\n",
       "      <td>1.000000</td>\n",
       "      <td>1.000000</td>\n",
       "      <td>1.000000</td>\n",
       "      <td>6.000000</td>\n",
       "      <td>0.000000</td>\n",
       "      <td>1.000000</td>\n",
       "      <td>1.00000</td>\n",
       "      <td>NaN</td>\n",
       "    </tr>\n",
       "    <tr>\n",
       "      <th>25%</th>\n",
       "      <td>NaN</td>\n",
       "      <td>682.500000</td>\n",
       "      <td>7.000000</td>\n",
       "      <td>1.000000</td>\n",
       "      <td>NaN</td>\n",
       "      <td>NaN</td>\n",
       "      <td>NaN</td>\n",
       "      <td>41.000000</td>\n",
       "      <td>5.000000</td>\n",
       "      <td>2.000000</td>\n",
       "      <td>...</td>\n",
       "      <td>NaN</td>\n",
       "      <td>NaN</td>\n",
       "      <td>2.000000</td>\n",
       "      <td>4.000000</td>\n",
       "      <td>3.000000</td>\n",
       "      <td>7.000000</td>\n",
       "      <td>0.000000</td>\n",
       "      <td>1.000000</td>\n",
       "      <td>1.00000</td>\n",
       "      <td>NaN</td>\n",
       "    </tr>\n",
       "    <tr>\n",
       "      <th>50%</th>\n",
       "      <td>NaN</td>\n",
       "      <td>1229.000000</td>\n",
       "      <td>9.000000</td>\n",
       "      <td>2.000000</td>\n",
       "      <td>NaN</td>\n",
       "      <td>NaN</td>\n",
       "      <td>NaN</td>\n",
       "      <td>44.000000</td>\n",
       "      <td>5.000000</td>\n",
       "      <td>3.000000</td>\n",
       "      <td>...</td>\n",
       "      <td>NaN</td>\n",
       "      <td>NaN</td>\n",
       "      <td>2.000000</td>\n",
       "      <td>5.000000</td>\n",
       "      <td>5.000000</td>\n",
       "      <td>8.000000</td>\n",
       "      <td>0.000000</td>\n",
       "      <td>2.000000</td>\n",
       "      <td>1.00000</td>\n",
       "      <td>NaN</td>\n",
       "    </tr>\n",
       "    <tr>\n",
       "      <th>75%</th>\n",
       "      <td>NaN</td>\n",
       "      <td>1403.000000</td>\n",
       "      <td>11.000000</td>\n",
       "      <td>3.000000</td>\n",
       "      <td>NaN</td>\n",
       "      <td>NaN</td>\n",
       "      <td>NaN</td>\n",
       "      <td>48.000000</td>\n",
       "      <td>6.000000</td>\n",
       "      <td>5.000000</td>\n",
       "      <td>...</td>\n",
       "      <td>NaN</td>\n",
       "      <td>NaN</td>\n",
       "      <td>2.000000</td>\n",
       "      <td>5.000000</td>\n",
       "      <td>5.000000</td>\n",
       "      <td>8.000000</td>\n",
       "      <td>1.000000</td>\n",
       "      <td>2.000000</td>\n",
       "      <td>3.00000</td>\n",
       "      <td>NaN</td>\n",
       "    </tr>\n",
       "    <tr>\n",
       "      <th>max</th>\n",
       "      <td>NaN</td>\n",
       "      <td>1572.000000</td>\n",
       "      <td>12.000000</td>\n",
       "      <td>3.000000</td>\n",
       "      <td>NaN</td>\n",
       "      <td>NaN</td>\n",
       "      <td>NaN</td>\n",
       "      <td>61.000000</td>\n",
       "      <td>10.000000</td>\n",
       "      <td>7.000000</td>\n",
       "      <td>...</td>\n",
       "      <td>NaN</td>\n",
       "      <td>NaN</td>\n",
       "      <td>5.000000</td>\n",
       "      <td>5.000000</td>\n",
       "      <td>5.000000</td>\n",
       "      <td>12.000000</td>\n",
       "      <td>7.000000</td>\n",
       "      <td>2.000000</td>\n",
       "      <td>5.00000</td>\n",
       "      <td>NaN</td>\n",
       "    </tr>\n",
       "  </tbody>\n",
       "</table>\n",
       "<p>11 rows × 47 columns</p>\n",
       "</div>"
      ],
      "text/plain": [
       "         Roll          Adm         Std         Sec  Age  Gen Place  \\\n",
       "count     350   323.000000  350.000000  350.000000  350  350   350   \n",
       "unique    343          NaN         NaN         NaN   12    5    31   \n",
       "top     9C018          NaN         NaN         NaN   16    1     1   \n",
       "freq        2          NaN         NaN         NaN   60  214   113   \n",
       "mean      NaN  1109.817337    8.882857    1.897143  NaN  NaN   NaN   \n",
       "std       NaN   347.672109    2.046870    0.783602  NaN  NaN   NaN   \n",
       "min       NaN   523.000000    6.000000    1.000000  NaN  NaN   NaN   \n",
       "25%       NaN   682.500000    7.000000    1.000000  NaN  NaN   NaN   \n",
       "50%       NaN  1229.000000    9.000000    2.000000  NaN  NaN   NaN   \n",
       "75%       NaN  1403.000000   11.000000    3.000000  NaN  NaN   NaN   \n",
       "max       NaN  1572.000000   12.000000    3.000000  NaN  NaN   NaN   \n",
       "\n",
       "             Faage       Faedu       Faocc  ...  Work  Travel        Tran  \\\n",
       "count   349.000000  350.000000  350.000000  ...   350     342  350.000000   \n",
       "unique         NaN         NaN         NaN  ...     6      21         NaN   \n",
       "top            NaN         NaN         NaN  ...    No      15         NaN   \n",
       "freq           NaN         NaN         NaN  ...   307      77         NaN   \n",
       "mean     44.217765    5.380000    3.428571  ...   NaN     NaN    2.177143   \n",
       "std       6.635729    1.726633    1.651356  ...   NaN     NaN    0.988497   \n",
       "min      -1.000000   -1.000000   -1.000000  ...   NaN     NaN    1.000000   \n",
       "25%      41.000000    5.000000    2.000000  ...   NaN     NaN    2.000000   \n",
       "50%      44.000000    5.000000    3.000000  ...   NaN     NaN    2.000000   \n",
       "75%      48.000000    6.000000    5.000000  ...   NaN     NaN    2.000000   \n",
       "max      61.000000   10.000000    7.000000  ...   NaN     NaN    5.000000   \n",
       "\n",
       "               Phy         Men       Sleep       Goout       Phone      Somed  \\\n",
       "count   350.000000  350.000000  349.000000  350.000000  350.000000  350.00000   \n",
       "unique         NaN         NaN         NaN         NaN         NaN        NaN   \n",
       "top            NaN         NaN         NaN         NaN         NaN        NaN   \n",
       "freq           NaN         NaN         NaN         NaN         NaN        NaN   \n",
       "mean      4.200000    4.105714    7.979943    1.211429    1.714286    1.80000   \n",
       "std       1.189736    1.267953    0.998360    1.921343    0.452401    1.21594   \n",
       "min       1.000000    1.000000    6.000000    0.000000    1.000000    1.00000   \n",
       "25%       4.000000    3.000000    7.000000    0.000000    1.000000    1.00000   \n",
       "50%       5.000000    5.000000    8.000000    0.000000    2.000000    1.00000   \n",
       "75%       5.000000    5.000000    8.000000    1.000000    2.000000    3.00000   \n",
       "max       5.000000    5.000000   12.000000    7.000000    2.000000    5.00000   \n",
       "\n",
       "        Phohr  \n",
       "count     350  \n",
       "unique     13  \n",
       "top         0  \n",
       "freq      152  \n",
       "mean      NaN  \n",
       "std       NaN  \n",
       "min       NaN  \n",
       "25%       NaN  \n",
       "50%       NaN  \n",
       "75%       NaN  \n",
       "max       NaN  \n",
       "\n",
       "[11 rows x 47 columns]"
      ]
     },
     "execution_count": 392,
     "metadata": {},
     "output_type": "execute_result"
    }
   ],
   "source": [
    "df.describe(include='all')"
   ]
  },
  {
   "cell_type": "code",
   "execution_count": 393,
   "id": "11f36941-208c-448a-9ca7-b17e536a2914",
   "metadata": {},
   "outputs": [
    {
     "data": {
      "text/plain": [
       "(350, 47)"
      ]
     },
     "execution_count": 393,
     "metadata": {},
     "output_type": "execute_result"
    }
   ],
   "source": [
    "df.shape"
   ]
  },
  {
   "cell_type": "markdown",
   "id": "55e019da-c984-4a0e-a283-e18fc903ac50",
   "metadata": {},
   "source": [
    "## Let's do some cleaning, shall we? "
   ]
  },
  {
   "cell_type": "markdown",
   "id": "6a609ef6-d816-46b3-83a5-e7a48bb62e64",
   "metadata": {},
   "source": [
    "##### There are 350 rows and 47 columns. \n",
    "First we'll check if a column has to be cleaned and then we'll clean it.\n",
    "Starting with roll number."
   ]
  },
  {
   "cell_type": "code",
   "execution_count": 394,
   "id": "a94274bf-b1c0-4536-8467-5605110e5e3e",
   "metadata": {},
   "outputs": [
    {
     "data": {
      "text/plain": [
       "count       350\n",
       "unique      343\n",
       "top       9C018\n",
       "freq          2\n",
       "Name: Roll, dtype: object"
      ]
     },
     "execution_count": 394,
     "metadata": {},
     "output_type": "execute_result"
    }
   ],
   "source": [
    "df.Roll.describe()"
   ]
  },
  {
   "cell_type": "markdown",
   "id": "3b93f33d-6127-40ea-86d2-01b168a93f13",
   "metadata": {},
   "source": [
    "We can see that there are duplicates in roll number. As it is the primary key here we have to remove the duplicates in it.\n",
    "Some students might have filled the form twice. So, we'll take the recent one into account and drop the other ones."
   ]
  },
  {
   "cell_type": "code",
   "execution_count": 395,
   "id": "ef65282f-d325-4e77-92e3-c9e355e64d46",
   "metadata": {},
   "outputs": [
    {
     "data": {
      "text/html": [
       "<div>\n",
       "<style scoped>\n",
       "    .dataframe tbody tr th:only-of-type {\n",
       "        vertical-align: middle;\n",
       "    }\n",
       "\n",
       "    .dataframe tbody tr th {\n",
       "        vertical-align: top;\n",
       "    }\n",
       "\n",
       "    .dataframe thead th {\n",
       "        text-align: right;\n",
       "    }\n",
       "</style>\n",
       "<table border=\"1\" class=\"dataframe\">\n",
       "  <thead>\n",
       "    <tr style=\"text-align: right;\">\n",
       "      <th></th>\n",
       "      <th>Roll</th>\n",
       "      <th>Adm</th>\n",
       "      <th>Std</th>\n",
       "      <th>Sec</th>\n",
       "      <th>Age</th>\n",
       "      <th>Gen</th>\n",
       "      <th>Place</th>\n",
       "      <th>Faage</th>\n",
       "      <th>Faedu</th>\n",
       "      <th>Faocc</th>\n",
       "      <th>...</th>\n",
       "      <th>Work</th>\n",
       "      <th>Travel</th>\n",
       "      <th>Tran</th>\n",
       "      <th>Phy</th>\n",
       "      <th>Men</th>\n",
       "      <th>Sleep</th>\n",
       "      <th>Goout</th>\n",
       "      <th>Phone</th>\n",
       "      <th>Somed</th>\n",
       "      <th>Phohr</th>\n",
       "    </tr>\n",
       "  </thead>\n",
       "  <tbody>\n",
       "    <tr>\n",
       "      <th>73</th>\n",
       "      <td>7B008</td>\n",
       "      <td>1572.0</td>\n",
       "      <td>7</td>\n",
       "      <td>2</td>\n",
       "      <td>13</td>\n",
       "      <td>1</td>\n",
       "      <td>29</td>\n",
       "      <td>45.0</td>\n",
       "      <td>6</td>\n",
       "      <td>2</td>\n",
       "      <td>...</td>\n",
       "      <td>Yes</td>\n",
       "      <td>30</td>\n",
       "      <td>2</td>\n",
       "      <td>5</td>\n",
       "      <td>5</td>\n",
       "      <td>8.0</td>\n",
       "      <td>1</td>\n",
       "      <td>2</td>\n",
       "      <td>1</td>\n",
       "      <td>0</td>\n",
       "    </tr>\n",
       "    <tr>\n",
       "      <th>144</th>\n",
       "      <td>8B021</td>\n",
       "      <td>1267.0</td>\n",
       "      <td>8</td>\n",
       "      <td>2</td>\n",
       "      <td>13</td>\n",
       "      <td>1</td>\n",
       "      <td>32</td>\n",
       "      <td>37.0</td>\n",
       "      <td>5</td>\n",
       "      <td>3</td>\n",
       "      <td>...</td>\n",
       "      <td>No</td>\n",
       "      <td>45</td>\n",
       "      <td>2</td>\n",
       "      <td>5</td>\n",
       "      <td>5</td>\n",
       "      <td>8.0</td>\n",
       "      <td>0</td>\n",
       "      <td>2</td>\n",
       "      <td>1</td>\n",
       "      <td>0</td>\n",
       "    </tr>\n",
       "    <tr>\n",
       "      <th>175</th>\n",
       "      <td>9B002</td>\n",
       "      <td>1208.0</td>\n",
       "      <td>9</td>\n",
       "      <td>2</td>\n",
       "      <td>15</td>\n",
       "      <td>1</td>\n",
       "      <td>1</td>\n",
       "      <td>41.0</td>\n",
       "      <td>7</td>\n",
       "      <td>3</td>\n",
       "      <td>...</td>\n",
       "      <td>No</td>\n",
       "      <td>8</td>\n",
       "      <td>4</td>\n",
       "      <td>5</td>\n",
       "      <td>5</td>\n",
       "      <td>9.0</td>\n",
       "      <td>1</td>\n",
       "      <td>2</td>\n",
       "      <td>1</td>\n",
       "      <td>0</td>\n",
       "    </tr>\n",
       "    <tr>\n",
       "      <th>198</th>\n",
       "      <td>9C018</td>\n",
       "      <td>1291.0</td>\n",
       "      <td>9</td>\n",
       "      <td>3</td>\n",
       "      <td>14</td>\n",
       "      <td>1</td>\n",
       "      <td>1</td>\n",
       "      <td>38.0</td>\n",
       "      <td>7</td>\n",
       "      <td>2</td>\n",
       "      <td>...</td>\n",
       "      <td>No</td>\n",
       "      <td>10</td>\n",
       "      <td>1</td>\n",
       "      <td>4</td>\n",
       "      <td>4</td>\n",
       "      <td>10.0</td>\n",
       "      <td>1</td>\n",
       "      <td>2</td>\n",
       "      <td>4</td>\n",
       "      <td>3</td>\n",
       "    </tr>\n",
       "    <tr>\n",
       "      <th>282</th>\n",
       "      <td>11A2011</td>\n",
       "      <td>657.0</td>\n",
       "      <td>11</td>\n",
       "      <td>2</td>\n",
       "      <td>16</td>\n",
       "      <td>2</td>\n",
       "      <td>1</td>\n",
       "      <td>46.0</td>\n",
       "      <td>5</td>\n",
       "      <td>5</td>\n",
       "      <td>...</td>\n",
       "      <td>No</td>\n",
       "      <td>15</td>\n",
       "      <td>1</td>\n",
       "      <td>5</td>\n",
       "      <td>5</td>\n",
       "      <td>8.0</td>\n",
       "      <td>0</td>\n",
       "      <td>2</td>\n",
       "      <td>1</td>\n",
       "      <td>0</td>\n",
       "    </tr>\n",
       "    <tr>\n",
       "      <th>296</th>\n",
       "      <td>11C007</td>\n",
       "      <td>685.0</td>\n",
       "      <td>11</td>\n",
       "      <td>3</td>\n",
       "      <td>16</td>\n",
       "      <td>1</td>\n",
       "      <td>20</td>\n",
       "      <td>42.0</td>\n",
       "      <td>5</td>\n",
       "      <td>3</td>\n",
       "      <td>...</td>\n",
       "      <td>No</td>\n",
       "      <td>15</td>\n",
       "      <td>2</td>\n",
       "      <td>5</td>\n",
       "      <td>5</td>\n",
       "      <td>9.0</td>\n",
       "      <td>0</td>\n",
       "      <td>2</td>\n",
       "      <td>3</td>\n",
       "      <td>2</td>\n",
       "    </tr>\n",
       "    <tr>\n",
       "      <th>341</th>\n",
       "      <td>12A2030</td>\n",
       "      <td>585.0</td>\n",
       "      <td>12</td>\n",
       "      <td>2</td>\n",
       "      <td>16</td>\n",
       "      <td>1</td>\n",
       "      <td>1</td>\n",
       "      <td>41.0</td>\n",
       "      <td>3</td>\n",
       "      <td>1</td>\n",
       "      <td>...</td>\n",
       "      <td>Yes</td>\n",
       "      <td>10</td>\n",
       "      <td>1</td>\n",
       "      <td>5</td>\n",
       "      <td>5</td>\n",
       "      <td>7.0</td>\n",
       "      <td>0</td>\n",
       "      <td>1</td>\n",
       "      <td>3</td>\n",
       "      <td>1</td>\n",
       "    </tr>\n",
       "  </tbody>\n",
       "</table>\n",
       "<p>7 rows × 47 columns</p>\n",
       "</div>"
      ],
      "text/plain": [
       "        Roll     Adm  Std  Sec Age Gen Place  Faage  Faedu  Faocc  ...  Work  \\\n",
       "73     7B008  1572.0    7    2  13   1    29   45.0      6      2  ...   Yes   \n",
       "144    8B021  1267.0    8    2  13   1    32   37.0      5      3  ...    No   \n",
       "175    9B002  1208.0    9    2  15   1     1   41.0      7      3  ...    No   \n",
       "198    9C018  1291.0    9    3  14   1     1   38.0      7      2  ...    No   \n",
       "282  11A2011   657.0   11    2  16   2     1   46.0      5      5  ...    No   \n",
       "296   11C007   685.0   11    3  16   1    20   42.0      5      3  ...    No   \n",
       "341  12A2030   585.0   12    2  16   1     1   41.0      3      1  ...   Yes   \n",
       "\n",
       "     Travel  Tran Phy  Men  Sleep Goout  Phone  Somed  Phohr  \n",
       "73       30     2   5    5    8.0     1      2      1      0  \n",
       "144      45     2   5    5    8.0     0      2      1      0  \n",
       "175       8     4   5    5    9.0     1      2      1      0  \n",
       "198      10     1   4    4   10.0     1      2      4      3  \n",
       "282      15     1   5    5    8.0     0      2      1      0  \n",
       "296      15     2   5    5    9.0     0      2      3      2  \n",
       "341      10     1   5    5    7.0     0      1      3      1  \n",
       "\n",
       "[7 rows x 47 columns]"
      ]
     },
     "execution_count": 395,
     "metadata": {},
     "output_type": "execute_result"
    }
   ],
   "source": [
    "df[df[\"Roll\"].duplicated(keep=\"last\")]"
   ]
  },
  {
   "cell_type": "markdown",
   "id": "497ce455-7335-4b76-9545-6602ef1b1052",
   "metadata": {},
   "source": [
    "There are 7 duplicate rows.  "
   ]
  },
  {
   "cell_type": "code",
   "execution_count": 396,
   "id": "12eadac7-8984-41ea-be2e-e4f5a6aab9ec",
   "metadata": {},
   "outputs": [
    {
     "data": {
      "text/plain": [
       "count       343\n",
       "unique      343\n",
       "top       6A001\n",
       "freq          1\n",
       "Name: Roll, dtype: object"
      ]
     },
     "execution_count": 396,
     "metadata": {},
     "output_type": "execute_result"
    }
   ],
   "source": [
    "df=df.drop_duplicates(subset=\"Roll\",keep=\"last\").reset_index(drop=True)\n",
    "df.Roll.describe()"
   ]
  },
  {
   "cell_type": "markdown",
   "id": "90b5f02b-b66f-4a42-998c-9c37619ca939",
   "metadata": {},
   "source": [
    "We have successfully dropped all the duplicates from the dataframe. Now the total number of rows are 343 and not 350.\n",
    "\n",
    "Now we can just drop admission number column as we have roll number as student identifier and only 316 values are there in the column."
   ]
  },
  {
   "cell_type": "code",
   "execution_count": 397,
   "id": "108d4aa5-b265-4b61-9ebf-cca0c959d7ff",
   "metadata": {},
   "outputs": [
    {
     "data": {
      "text/plain": [
       "count     316.000000\n",
       "mean     1111.411392\n",
       "std       347.231694\n",
       "min       523.000000\n",
       "25%       683.250000\n",
       "50%      1230.500000\n",
       "75%      1405.500000\n",
       "max      1572.000000\n",
       "Name: Adm, dtype: float64"
      ]
     },
     "execution_count": 397,
     "metadata": {},
     "output_type": "execute_result"
    }
   ],
   "source": [
    "df.Adm.describe()"
   ]
  },
  {
   "cell_type": "markdown",
   "id": "ae44fcdb-8d92-4257-be38-228d8621eb58",
   "metadata": {},
   "source": [
    "But before that we have to create a column called 'Fee' which is basically a binary column used to tell whether a student paid his/her previous year fee. For this we have to use another csv file 'last_year_fee_paid.csv' which contains the admission numbers of all the students who didn't pay the previous year fee"
   ]
  },
  {
   "cell_type": "code",
   "execution_count": 398,
   "id": "8e4c64f8-96ad-4006-9f21-41485273d162",
   "metadata": {},
   "outputs": [
    {
     "data": {
      "text/html": [
       "<div>\n",
       "<style scoped>\n",
       "    .dataframe tbody tr th:only-of-type {\n",
       "        vertical-align: middle;\n",
       "    }\n",
       "\n",
       "    .dataframe tbody tr th {\n",
       "        vertical-align: top;\n",
       "    }\n",
       "\n",
       "    .dataframe thead th {\n",
       "        text-align: right;\n",
       "    }\n",
       "</style>\n",
       "<table border=\"1\" class=\"dataframe\">\n",
       "  <thead>\n",
       "    <tr style=\"text-align: right;\">\n",
       "      <th></th>\n",
       "      <th>Admn No.</th>\n",
       "    </tr>\n",
       "  </thead>\n",
       "  <tbody>\n",
       "    <tr>\n",
       "      <th>0</th>\n",
       "      <td>1322</td>\n",
       "    </tr>\n",
       "    <tr>\n",
       "      <th>1</th>\n",
       "      <td>1318</td>\n",
       "    </tr>\n",
       "    <tr>\n",
       "      <th>2</th>\n",
       "      <td>1304</td>\n",
       "    </tr>\n",
       "    <tr>\n",
       "      <th>3</th>\n",
       "      <td>1400</td>\n",
       "    </tr>\n",
       "    <tr>\n",
       "      <th>4</th>\n",
       "      <td>1401</td>\n",
       "    </tr>\n",
       "  </tbody>\n",
       "</table>\n",
       "</div>"
      ],
      "text/plain": [
       "   Admn No.\n",
       "0      1322\n",
       "1      1318\n",
       "2      1304\n",
       "3      1400\n",
       "4      1401"
      ]
     },
     "execution_count": 398,
     "metadata": {},
     "output_type": "execute_result"
    }
   ],
   "source": [
    "df2=pd.read_csv('C:\\jupytercsv\\last_year_fee_paid.csv')\n",
    "df2.head()"
   ]
  },
  {
   "cell_type": "markdown",
   "id": "4f5fa5d4-f597-4e67-b8ff-4ad35f0e302a",
   "metadata": {},
   "source": [
    "Now we'll create a new column 'Fee'"
   ]
  },
  {
   "cell_type": "code",
   "execution_count": 399,
   "id": "febaa260-cb22-41b9-9a2c-6a47fd21460e",
   "metadata": {},
   "outputs": [
    {
     "data": {
      "text/plain": [
       "Admn No.    int64\n",
       "dtype: object"
      ]
     },
     "execution_count": 399,
     "metadata": {},
     "output_type": "execute_result"
    }
   ],
   "source": [
    "df2.dtypes"
   ]
  },
  {
   "cell_type": "code",
   "execution_count": 400,
   "id": "e42ffa2f-8d08-42e8-9edf-044272c9ab26",
   "metadata": {},
   "outputs": [
    {
     "data": {
      "text/html": [
       "<div>\n",
       "<style scoped>\n",
       "    .dataframe tbody tr th:only-of-type {\n",
       "        vertical-align: middle;\n",
       "    }\n",
       "\n",
       "    .dataframe tbody tr th {\n",
       "        vertical-align: top;\n",
       "    }\n",
       "\n",
       "    .dataframe thead th {\n",
       "        text-align: right;\n",
       "    }\n",
       "</style>\n",
       "<table border=\"1\" class=\"dataframe\">\n",
       "  <thead>\n",
       "    <tr style=\"text-align: right;\">\n",
       "      <th></th>\n",
       "      <th>Roll</th>\n",
       "      <th>Adm</th>\n",
       "      <th>Std</th>\n",
       "      <th>Sec</th>\n",
       "      <th>Age</th>\n",
       "      <th>Gen</th>\n",
       "      <th>Place</th>\n",
       "      <th>Faage</th>\n",
       "      <th>Faedu</th>\n",
       "      <th>Faocc</th>\n",
       "      <th>...</th>\n",
       "      <th>Travel</th>\n",
       "      <th>Tran</th>\n",
       "      <th>Phy</th>\n",
       "      <th>Men</th>\n",
       "      <th>Sleep</th>\n",
       "      <th>Goout</th>\n",
       "      <th>Phone</th>\n",
       "      <th>Somed</th>\n",
       "      <th>Phohr</th>\n",
       "      <th>Fee</th>\n",
       "    </tr>\n",
       "  </thead>\n",
       "  <tbody>\n",
       "    <tr>\n",
       "      <th>0</th>\n",
       "      <td>6A001</td>\n",
       "      <td>1416.0</td>\n",
       "      <td>6</td>\n",
       "      <td>1</td>\n",
       "      <td>11</td>\n",
       "      <td>2</td>\n",
       "      <td>23</td>\n",
       "      <td>51.0</td>\n",
       "      <td>5</td>\n",
       "      <td>3</td>\n",
       "      <td>...</td>\n",
       "      <td>55</td>\n",
       "      <td>2</td>\n",
       "      <td>4</td>\n",
       "      <td>5</td>\n",
       "      <td>7.0</td>\n",
       "      <td>0</td>\n",
       "      <td>2</td>\n",
       "      <td>1</td>\n",
       "      <td>0</td>\n",
       "      <td>1</td>\n",
       "    </tr>\n",
       "    <tr>\n",
       "      <th>1</th>\n",
       "      <td>6A002</td>\n",
       "      <td>1425.0</td>\n",
       "      <td>6</td>\n",
       "      <td>1</td>\n",
       "      <td>11</td>\n",
       "      <td>2</td>\n",
       "      <td>1</td>\n",
       "      <td>38.0</td>\n",
       "      <td>6</td>\n",
       "      <td>2</td>\n",
       "      <td>...</td>\n",
       "      <td>15</td>\n",
       "      <td>4</td>\n",
       "      <td>5</td>\n",
       "      <td>5</td>\n",
       "      <td>9.0</td>\n",
       "      <td>1</td>\n",
       "      <td>2</td>\n",
       "      <td>1</td>\n",
       "      <td>0</td>\n",
       "      <td>1</td>\n",
       "    </tr>\n",
       "    <tr>\n",
       "      <th>2</th>\n",
       "      <td>6A003</td>\n",
       "      <td>1417.0</td>\n",
       "      <td>6</td>\n",
       "      <td>1</td>\n",
       "      <td>10</td>\n",
       "      <td>2</td>\n",
       "      <td>34</td>\n",
       "      <td>44.0</td>\n",
       "      <td>5</td>\n",
       "      <td>2</td>\n",
       "      <td>...</td>\n",
       "      <td>1</td>\n",
       "      <td>2</td>\n",
       "      <td>5</td>\n",
       "      <td>5</td>\n",
       "      <td>9.0</td>\n",
       "      <td>1</td>\n",
       "      <td>2</td>\n",
       "      <td>1</td>\n",
       "      <td>0</td>\n",
       "      <td>1</td>\n",
       "    </tr>\n",
       "    <tr>\n",
       "      <th>3</th>\n",
       "      <td>6A004</td>\n",
       "      <td>1410.0</td>\n",
       "      <td>6</td>\n",
       "      <td>1</td>\n",
       "      <td>11</td>\n",
       "      <td>2</td>\n",
       "      <td>5</td>\n",
       "      <td>37.0</td>\n",
       "      <td>6</td>\n",
       "      <td>3</td>\n",
       "      <td>...</td>\n",
       "      <td>5</td>\n",
       "      <td>2</td>\n",
       "      <td>3</td>\n",
       "      <td>2</td>\n",
       "      <td>8.0</td>\n",
       "      <td>2</td>\n",
       "      <td>2</td>\n",
       "      <td>2</td>\n",
       "      <td>1</td>\n",
       "      <td>1</td>\n",
       "    </tr>\n",
       "    <tr>\n",
       "      <th>4</th>\n",
       "      <td>6A005</td>\n",
       "      <td>1421.0</td>\n",
       "      <td>6</td>\n",
       "      <td>1</td>\n",
       "      <td>11</td>\n",
       "      <td>2</td>\n",
       "      <td>23</td>\n",
       "      <td>36.0</td>\n",
       "      <td>7</td>\n",
       "      <td>6</td>\n",
       "      <td>...</td>\n",
       "      <td>30</td>\n",
       "      <td>2</td>\n",
       "      <td>5</td>\n",
       "      <td>5</td>\n",
       "      <td>8.0</td>\n",
       "      <td>1</td>\n",
       "      <td>1</td>\n",
       "      <td>3</td>\n",
       "      <td>1</td>\n",
       "      <td>1</td>\n",
       "    </tr>\n",
       "    <tr>\n",
       "      <th>...</th>\n",
       "      <td>...</td>\n",
       "      <td>...</td>\n",
       "      <td>...</td>\n",
       "      <td>...</td>\n",
       "      <td>...</td>\n",
       "      <td>...</td>\n",
       "      <td>...</td>\n",
       "      <td>...</td>\n",
       "      <td>...</td>\n",
       "      <td>...</td>\n",
       "      <td>...</td>\n",
       "      <td>...</td>\n",
       "      <td>...</td>\n",
       "      <td>...</td>\n",
       "      <td>...</td>\n",
       "      <td>...</td>\n",
       "      <td>...</td>\n",
       "      <td>...</td>\n",
       "      <td>...</td>\n",
       "      <td>...</td>\n",
       "      <td>...</td>\n",
       "    </tr>\n",
       "    <tr>\n",
       "      <th>338</th>\n",
       "      <td>12A2034</td>\n",
       "      <td>589.0</td>\n",
       "      <td>12</td>\n",
       "      <td>2</td>\n",
       "      <td>17</td>\n",
       "      <td>1</td>\n",
       "      <td>5</td>\n",
       "      <td>49.0</td>\n",
       "      <td>4</td>\n",
       "      <td>2</td>\n",
       "      <td>...</td>\n",
       "      <td>10</td>\n",
       "      <td>1</td>\n",
       "      <td>5</td>\n",
       "      <td>5</td>\n",
       "      <td>8.0</td>\n",
       "      <td>0</td>\n",
       "      <td>1</td>\n",
       "      <td>2</td>\n",
       "      <td>1</td>\n",
       "      <td>1</td>\n",
       "    </tr>\n",
       "    <tr>\n",
       "      <th>339</th>\n",
       "      <td>12A2035</td>\n",
       "      <td>590.0</td>\n",
       "      <td>12</td>\n",
       "      <td>2</td>\n",
       "      <td>16</td>\n",
       "      <td>1</td>\n",
       "      <td>10</td>\n",
       "      <td>47.0</td>\n",
       "      <td>7</td>\n",
       "      <td>2</td>\n",
       "      <td>...</td>\n",
       "      <td>35</td>\n",
       "      <td>2</td>\n",
       "      <td>4</td>\n",
       "      <td>4</td>\n",
       "      <td>7.0</td>\n",
       "      <td>1</td>\n",
       "      <td>1</td>\n",
       "      <td>4</td>\n",
       "      <td>2</td>\n",
       "      <td>1</td>\n",
       "    </tr>\n",
       "    <tr>\n",
       "      <th>340</th>\n",
       "      <td>12A2036</td>\n",
       "      <td>591.0</td>\n",
       "      <td>12</td>\n",
       "      <td>2</td>\n",
       "      <td>16</td>\n",
       "      <td>1</td>\n",
       "      <td>22</td>\n",
       "      <td>49.0</td>\n",
       "      <td>5</td>\n",
       "      <td>2</td>\n",
       "      <td>...</td>\n",
       "      <td>25</td>\n",
       "      <td>2</td>\n",
       "      <td>4</td>\n",
       "      <td>3</td>\n",
       "      <td>8.0</td>\n",
       "      <td>0</td>\n",
       "      <td>1</td>\n",
       "      <td>4</td>\n",
       "      <td>2</td>\n",
       "      <td>0</td>\n",
       "    </tr>\n",
       "    <tr>\n",
       "      <th>341</th>\n",
       "      <td>12A2066</td>\n",
       "      <td>576.0</td>\n",
       "      <td>12</td>\n",
       "      <td>2</td>\n",
       "      <td>17</td>\n",
       "      <td>endiraniselvam@gmail.com</td>\n",
       "      <td>28</td>\n",
       "      <td>43.0</td>\n",
       "      <td>4</td>\n",
       "      <td>5</td>\n",
       "      <td>...</td>\n",
       "      <td>15</td>\n",
       "      <td>2</td>\n",
       "      <td>5</td>\n",
       "      <td>1</td>\n",
       "      <td>8.0</td>\n",
       "      <td>0</td>\n",
       "      <td>2</td>\n",
       "      <td>1</td>\n",
       "      <td>1</td>\n",
       "      <td>0</td>\n",
       "    </tr>\n",
       "    <tr>\n",
       "      <th>342</th>\n",
       "      <td>12C007</td>\n",
       "      <td>598.0</td>\n",
       "      <td>12</td>\n",
       "      <td>3</td>\n",
       "      <td>17</td>\n",
       "      <td>1</td>\n",
       "      <td>21</td>\n",
       "      <td>45.0</td>\n",
       "      <td>5</td>\n",
       "      <td>3</td>\n",
       "      <td>...</td>\n",
       "      <td>15</td>\n",
       "      <td>2</td>\n",
       "      <td>5</td>\n",
       "      <td>5</td>\n",
       "      <td>9.0</td>\n",
       "      <td>1</td>\n",
       "      <td>1</td>\n",
       "      <td>1</td>\n",
       "      <td>1</td>\n",
       "      <td>0</td>\n",
       "    </tr>\n",
       "  </tbody>\n",
       "</table>\n",
       "<p>343 rows × 48 columns</p>\n",
       "</div>"
      ],
      "text/plain": [
       "        Roll     Adm  Std  Sec Age                       Gen Place  Faage  \\\n",
       "0      6A001  1416.0    6    1  11                         2    23   51.0   \n",
       "1      6A002  1425.0    6    1  11                         2     1   38.0   \n",
       "2      6A003  1417.0    6    1  10                         2    34   44.0   \n",
       "3      6A004  1410.0    6    1  11                         2     5   37.0   \n",
       "4      6A005  1421.0    6    1  11                         2    23   36.0   \n",
       "..       ...     ...  ...  ...  ..                       ...   ...    ...   \n",
       "338  12A2034   589.0   12    2  17                         1     5   49.0   \n",
       "339  12A2035   590.0   12    2  16                         1    10   47.0   \n",
       "340  12A2036   591.0   12    2  16                         1    22   49.0   \n",
       "341  12A2066   576.0   12    2  17  endiraniselvam@gmail.com    28   43.0   \n",
       "342   12C007   598.0   12    3  17                         1    21   45.0   \n",
       "\n",
       "     Faedu  Faocc  ...  Travel  Tran  Phy Men  Sleep  Goout Phone  Somed  \\\n",
       "0        5      3  ...      55     2    4   5    7.0      0     2      1   \n",
       "1        6      2  ...      15     4    5   5    9.0      1     2      1   \n",
       "2        5      2  ...       1     2    5   5    9.0      1     2      1   \n",
       "3        6      3  ...       5     2    3   2    8.0      2     2      2   \n",
       "4        7      6  ...      30     2    5   5    8.0      1     1      3   \n",
       "..     ...    ...  ...     ...   ...  ...  ..    ...    ...   ...    ...   \n",
       "338      4      2  ...      10     1    5   5    8.0      0     1      2   \n",
       "339      7      2  ...      35     2    4   4    7.0      1     1      4   \n",
       "340      5      2  ...      25     2    4   3    8.0      0     1      4   \n",
       "341      4      5  ...      15     2    5   1    8.0      0     2      1   \n",
       "342      5      3  ...      15     2    5   5    9.0      1     1      1   \n",
       "\n",
       "     Phohr  Fee  \n",
       "0        0    1  \n",
       "1        0    1  \n",
       "2        0    1  \n",
       "3        1    1  \n",
       "4        1    1  \n",
       "..     ...  ...  \n",
       "338      1    1  \n",
       "339      2    1  \n",
       "340      2    0  \n",
       "341      1    0  \n",
       "342      1    0  \n",
       "\n",
       "[343 rows x 48 columns]"
      ]
     },
     "execution_count": 400,
     "metadata": {},
     "output_type": "execute_result"
    }
   ],
   "source": [
    "df['Fee']=df.Adm.apply(lambda x: '0' if x in df2['Admn No.'].values else '1')\n",
    "df"
   ]
  },
  {
   "cell_type": "code",
   "execution_count": 401,
   "id": "6802ba8c-6bb5-4c58-9732-1009df8d6425",
   "metadata": {},
   "outputs": [
    {
     "data": {
      "text/plain": [
       "array(['1', '0'], dtype=object)"
      ]
     },
     "execution_count": 401,
     "metadata": {},
     "output_type": "execute_result"
    }
   ],
   "source": [
    "df.Fee.unique()"
   ]
  },
  {
   "cell_type": "markdown",
   "id": "50689146-5a3a-47a3-aec8-d96d662e2559",
   "metadata": {},
   "source": [
    "A new column 'Fee' has been created and corresponding values have been entered. if the student has paid the fee then the 'Fee' column contains 1 else it contains 0."
   ]
  },
  {
   "cell_type": "markdown",
   "id": "f0f4d459-b386-47cf-9bca-17d4efc9be45",
   "metadata": {},
   "source": [
    "Since this fee data has been gathered from previous year, The present 6th grade students will all have 1 in the 'Fee' column."
   ]
  },
  {
   "cell_type": "markdown",
   "id": "cc48fb2a-f26b-4a5e-8031-58af1ce61887",
   "metadata": {},
   "source": [
    "Now we can drop the 'Adm' column from the 'df' dataframe since it's of no use."
   ]
  },
  {
   "cell_type": "code",
   "execution_count": 402,
   "id": "040f15f4-d50f-4203-a942-f0d6a7d036df",
   "metadata": {},
   "outputs": [
    {
     "data": {
      "text/plain": [
       "(343, 47)"
      ]
     },
     "execution_count": 402,
     "metadata": {},
     "output_type": "execute_result"
    }
   ],
   "source": [
    "df=df.drop(columns=\"Adm\")\n",
    "df.shape"
   ]
  },
  {
   "cell_type": "markdown",
   "id": "3b332f38-3078-45dc-adef-b2a175a01801",
   "metadata": {},
   "source": [
    "Standard and Section:"
   ]
  },
  {
   "cell_type": "code",
   "execution_count": 403,
   "id": "ffa8bea0-8cda-45ee-8ebe-c5ab6b5863ce",
   "metadata": {},
   "outputs": [
    {
     "data": {
      "text/plain": [
       "count    343.000000\n",
       "mean       8.868805\n",
       "std        2.051313\n",
       "min        6.000000\n",
       "25%        7.000000\n",
       "50%        9.000000\n",
       "75%       11.000000\n",
       "max       12.000000\n",
       "Name: Std, dtype: float64"
      ]
     },
     "execution_count": 403,
     "metadata": {},
     "output_type": "execute_result"
    }
   ],
   "source": [
    "df.Std.describe()"
   ]
  },
  {
   "cell_type": "code",
   "execution_count": 404,
   "id": "237265e5-3a17-492d-b2f6-80e2ce789af7",
   "metadata": {},
   "outputs": [
    {
     "data": {
      "text/plain": [
       "count    343.000000\n",
       "mean       1.889213\n",
       "std        0.786937\n",
       "min        1.000000\n",
       "25%        1.000000\n",
       "50%        2.000000\n",
       "75%        3.000000\n",
       "max        3.000000\n",
       "Name: Sec, dtype: float64"
      ]
     },
     "execution_count": 404,
     "metadata": {},
     "output_type": "execute_result"
    }
   ],
   "source": [
    "df.Sec.describe()"
   ]
  },
  {
   "cell_type": "markdown",
   "id": "03555d8e-979c-4a81-83b8-0deb3fec410b",
   "metadata": {},
   "source": [
    "Age"
   ]
  },
  {
   "cell_type": "markdown",
   "id": "92109a10-c348-41e3-a2c6-765fb20aa8e1",
   "metadata": {},
   "source": [
    "Wondered why Age column was showing object datatype and got the unique values."
   ]
  },
  {
   "cell_type": "code",
   "execution_count": 405,
   "id": "baa93746-e401-469c-9660-46f0ffc43176",
   "metadata": {},
   "outputs": [
    {
     "data": {
      "text/plain": [
       "array(['11', '10', '12', '13', '21.03 2012,    12', '14', '15', '16',\n",
       "       '14 yrs 11 months', '17', '16 year', '18'], dtype=object)"
      ]
     },
     "execution_count": 405,
     "metadata": {},
     "output_type": "execute_result"
    }
   ],
   "source": [
    "df.Age.unique()"
   ]
  },
  {
   "cell_type": "markdown",
   "id": "0168f303-4857-40e3-906e-0fb3b1290a84",
   "metadata": {},
   "source": [
    "This column has values such as '14 yrs 11 months','21.03 2012,    12' & '16 year' which can we grouped with other values i.e. '12,'14' & '16' "
   ]
  },
  {
   "cell_type": "code",
   "execution_count": 406,
   "id": "942a8085-e05f-4648-b098-ecd5af1bf9c7",
   "metadata": {},
   "outputs": [
    {
     "name": "stdout",
     "output_type": "stream",
     "text": [
      "['11' '10' '12' '13' '14' '15' '16' '17' '18']\n"
     ]
    },
    {
     "data": {
      "text/plain": [
       "count     343\n",
       "unique      9\n",
       "top        16\n",
       "freq       58\n",
       "Name: Age, dtype: object"
      ]
     },
     "execution_count": 406,
     "metadata": {},
     "output_type": "execute_result"
    }
   ],
   "source": [
    "dic= {\n",
    "    '21.03 2012,    12':'12',\n",
    "    '14 yrs 11 months':'14',\n",
    "    '16 year':'16'\n",
    "}\n",
    "df.replace(dic,inplace=True)\n",
    "print(df.Age.unique())\n",
    "\n",
    "df.Age.describe()"
   ]
  },
  {
   "cell_type": "markdown",
   "id": "f1067573-abdc-44e1-a943-725be4ab6a3e",
   "metadata": {},
   "source": [
    "Unnecessary values have been replaced successfully. Now we can do the same thing with Gender column."
   ]
  },
  {
   "cell_type": "code",
   "execution_count": 407,
   "id": "8b9fc916-a047-4007-9e89-cbeca91e8aa0",
   "metadata": {},
   "outputs": [
    {
     "data": {
      "text/plain": [
       "array(['2', '1', 'Male', 'Female', 'endiraniselvam@gmail.com'],\n",
       "      dtype=object)"
      ]
     },
     "execution_count": 407,
     "metadata": {},
     "output_type": "execute_result"
    }
   ],
   "source": [
    "df.Gen.unique()"
   ]
  },
  {
   "cell_type": "code",
   "execution_count": 408,
   "id": "b14097c9-341e-4ad0-a203-2499089f007c",
   "metadata": {},
   "outputs": [
    {
     "name": "stdout",
     "output_type": "stream",
     "text": [
      "['2' '1']\n"
     ]
    }
   ],
   "source": [
    "dic={\n",
    "    'Male':'1', 'Female':'2', 'endiraniselvam@gmail.com':'2'\n",
    "}\n",
    "df.replace(dic,inplace=True)\n",
    "print(df.Gen.unique())\n"
   ]
  },
  {
   "cell_type": "code",
   "execution_count": 409,
   "id": "e69f67b7-7be9-43ee-b41d-28b00ef1b32b",
   "metadata": {},
   "outputs": [
    {
     "data": {
      "text/plain": [
       "count     343\n",
       "unique      2\n",
       "top         1\n",
       "freq      210\n",
       "Name: Gen, dtype: object"
      ]
     },
     "execution_count": 409,
     "metadata": {},
     "output_type": "execute_result"
    }
   ],
   "source": [
    "df.Gen.describe()"
   ]
  },
  {
   "cell_type": "markdown",
   "id": "ab24f0d6-41f4-4642-83da-d7ce3cb2d749",
   "metadata": {},
   "source": [
    "Place"
   ]
  },
  {
   "cell_type": "code",
   "execution_count": 410,
   "id": "cfa39e94-c932-4dad-9004-97c9f3e63602",
   "metadata": {},
   "outputs": [
    {
     "data": {
      "text/plain": [
       "count     343\n",
       "unique     31\n",
       "top         1\n",
       "freq      109\n",
       "Name: Place, dtype: object"
      ]
     },
     "execution_count": 410,
     "metadata": {},
     "output_type": "execute_result"
    }
   ],
   "source": [
    "df.Place.describe()"
   ]
  },
  {
   "cell_type": "markdown",
   "id": "a14ed9a4-c906-4af8-afcd-21beef849ead",
   "metadata": {},
   "source": [
    "The dtype should be int64 but it is showing object. So we have to check the values."
   ]
  },
  {
   "cell_type": "code",
   "execution_count": 411,
   "id": "4dfd1757-8f47-4c6b-8018-d75679e5bc51",
   "metadata": {},
   "outputs": [
    {
     "data": {
      "text/plain": [
       "array(['23', '1', '34', '5', '29', '19', '10', '21', '11', '9', '30', '4',\n",
       "       '17', '22', '31', '7', '18', '14', '32', '16', '28', '15', '6',\n",
       "       '13', '24', 'Sobanapuram', '26', '20', '35', 'Naganallur', '2'],\n",
       "      dtype=object)"
      ]
     },
     "execution_count": 411,
     "metadata": {},
     "output_type": "execute_result"
    }
   ],
   "source": [
    "df.Place.unique()"
   ]
  },
  {
   "cell_type": "markdown",
   "id": "a9489822-362a-4ce4-a946-a1e8caee6ca2",
   "metadata": {},
   "source": [
    "There are 2 values 'Sobanapuram' and 'Naganallur'. Now we replace them with correct village numbers."
   ]
  },
  {
   "cell_type": "code",
   "execution_count": 412,
   "id": "4c42a9ea-fae2-4ff5-9ae7-09b4a7523836",
   "metadata": {},
   "outputs": [
    {
     "data": {
      "text/plain": [
       "array(['23', '1', '34', '5', '29', '19', '10', '21', '11', '9', '30', '4',\n",
       "       '17', '22', '31', '7', '18', '14', '32', '16', '28', '15', '6',\n",
       "       '13', '24', '26', '20', '35', '2'], dtype=object)"
      ]
     },
     "execution_count": 412,
     "metadata": {},
     "output_type": "execute_result"
    }
   ],
   "source": [
    "dic={\n",
    "     'Sobanapuram': '10',\n",
    "    'Naganallur': '29'\n",
    "}\n",
    "df.replace(dic,inplace=True)\n",
    "df.Place.unique()"
   ]
  },
  {
   "cell_type": "markdown",
   "id": "438ed647-c0ab-4edf-b141-a14814afb067",
   "metadata": {},
   "source": [
    "### Father's and Mother's details"
   ]
  },
  {
   "cell_type": "code",
   "execution_count": 413,
   "id": "af9a4e5d-64a1-4f59-8501-9f59e086a9c3",
   "metadata": {},
   "outputs": [
    {
     "name": "stdout",
     "output_type": "stream",
     "text": [
      "count    342.000000\n",
      "mean      44.274854\n",
      "std        6.676910\n",
      "min       -1.000000\n",
      "25%       41.000000\n",
      "50%       44.000000\n",
      "75%       48.000000\n",
      "max       61.000000\n",
      "Name: Faage, dtype: float64\n"
     ]
    },
    {
     "data": {
      "text/plain": [
       "array([51., 38., 44., 37., 36., 40., 39., 35., 45., 41., -1., 42., 43.,\n",
       "       32., 55., 47., 48., 46., 50., 54., 34., 58., 61., 53., 49., nan,\n",
       "       52., 60., 57.])"
      ]
     },
     "execution_count": 413,
     "metadata": {},
     "output_type": "execute_result"
    }
   ],
   "source": [
    "print(df.Faage.describe())\n",
    "df.Faage.unique()"
   ]
  },
  {
   "cell_type": "code",
   "execution_count": 414,
   "id": "85ccfefc-f507-49f3-9203-e352da7a25fc",
   "metadata": {},
   "outputs": [
    {
     "name": "stdout",
     "output_type": "stream",
     "text": [
      "count    343.000000\n",
      "mean      37.705539\n",
      "std        5.773315\n",
      "min       -1.000000\n",
      "25%       34.000000\n",
      "50%       38.000000\n",
      "75%       40.000000\n",
      "max       87.000000\n",
      "Name: Moage, dtype: float64\n"
     ]
    },
    {
     "data": {
      "text/plain": [
       "array([40, 32, 31, 34, 33, 38, 35, 36, 29, 30, 39, 37, 87, 27, 28, 46, 42,\n",
       "       44, 43, 41, 45, 48, 50, 47, 49, -1, 56], dtype=int64)"
      ]
     },
     "execution_count": 414,
     "metadata": {},
     "output_type": "execute_result"
    }
   ],
   "source": [
    "print(df.Moage.describe())\n",
    "df.Moage.unique()"
   ]
  },
  {
   "cell_type": "code",
   "execution_count": 415,
   "id": "3681402f-510c-42cb-a5dc-474fcc6d27e6",
   "metadata": {},
   "outputs": [
    {
     "name": "stdout",
     "output_type": "stream",
     "text": [
      "count    343.000000\n",
      "mean       5.379009\n",
      "std        1.734353\n",
      "min       -1.000000\n",
      "25%        4.500000\n",
      "50%        5.000000\n",
      "75%        6.000000\n",
      "max       10.000000\n",
      "Name: Faedu, dtype: float64\n"
     ]
    },
    {
     "data": {
      "text/plain": [
       "array([ 5,  6,  7, 10,  4, -1,  3,  9,  1,  8,  2], dtype=int64)"
      ]
     },
     "execution_count": 415,
     "metadata": {},
     "output_type": "execute_result"
    }
   ],
   "source": [
    "print(df.Faedu.describe())\n",
    "df.Faedu.unique()"
   ]
  },
  {
   "cell_type": "code",
   "execution_count": 416,
   "id": "aaf1199f-1809-45cc-9d2f-32e7a5ac24b9",
   "metadata": {},
   "outputs": [
    {
     "name": "stdout",
     "output_type": "stream",
     "text": [
      "count    343.000000\n",
      "mean       5.542274\n",
      "std        1.462131\n",
      "min        1.000000\n",
      "25%        5.000000\n",
      "50%        6.000000\n",
      "75%        6.000000\n",
      "max       10.000000\n",
      "Name: Moedu, dtype: float64\n"
     ]
    },
    {
     "data": {
      "text/plain": [
       "array([ 5,  6,  7,  8,  4,  9,  1,  2,  3, 10], dtype=int64)"
      ]
     },
     "execution_count": 416,
     "metadata": {},
     "output_type": "execute_result"
    }
   ],
   "source": [
    "print(df.Moedu.describe())\n",
    "df.Moedu.unique()"
   ]
  },
  {
   "cell_type": "code",
   "execution_count": 417,
   "id": "3cc75347-f4d1-4693-b42e-ef7d87770e4b",
   "metadata": {},
   "outputs": [
    {
     "name": "stdout",
     "output_type": "stream",
     "text": [
      "count    343.000000\n",
      "mean       3.443149\n",
      "std        1.656673\n",
      "min       -1.000000\n",
      "25%        2.000000\n",
      "50%        3.000000\n",
      "75%        5.000000\n",
      "max        7.000000\n",
      "Name: Faocc, dtype: float64\n"
     ]
    },
    {
     "data": {
      "text/plain": [
       "array([ 3,  2,  6,  1,  5, -1,  4,  7], dtype=int64)"
      ]
     },
     "execution_count": 417,
     "metadata": {},
     "output_type": "execute_result"
    }
   ],
   "source": [
    "print(df.Faocc.describe())\n",
    "df.Faocc.unique()"
   ]
  },
  {
   "cell_type": "code",
   "execution_count": 418,
   "id": "0693ee9f-6733-4b76-90fe-e79fe4408fa0",
   "metadata": {},
   "outputs": [
    {
     "name": "stdout",
     "output_type": "stream",
     "text": [
      "count     343\n",
      "unique      8\n",
      "top         5\n",
      "freq      208\n",
      "Name: Moocc, dtype: object\n"
     ]
    },
    {
     "data": {
      "text/plain": [
       "array(['5', '1', '2', '4', '3', '7', '6', 'Employer'], dtype=object)"
      ]
     },
     "execution_count": 418,
     "metadata": {},
     "output_type": "execute_result"
    }
   ],
   "source": [
    "print(df.Moocc.describe())\n",
    "df.Moocc.unique()"
   ]
  },
  {
   "cell_type": "code",
   "execution_count": 419,
   "id": "399ef91a-3b0b-4888-8e20-ffa69a619e9f",
   "metadata": {},
   "outputs": [
    {
     "data": {
      "text/plain": [
       "count    343.000000\n",
       "mean       4.075802\n",
       "std        2.548953\n",
       "min        0.000000\n",
       "25%        2.000000\n",
       "50%        4.000000\n",
       "75%        5.000000\n",
       "max       13.000000\n",
       "Name: Fasal, dtype: float64"
      ]
     },
     "execution_count": 419,
     "metadata": {},
     "output_type": "execute_result"
    }
   ],
   "source": [
    "df.Fasal.describe()"
   ]
  },
  {
   "cell_type": "code",
   "execution_count": 420,
   "id": "2ea9d889-d301-439d-b958-4bb921427318",
   "metadata": {},
   "outputs": [
    {
     "data": {
      "text/plain": [
       "count    343.000000\n",
       "mean       1.291545\n",
       "std        1.917026\n",
       "min        0.000000\n",
       "25%        0.000000\n",
       "50%        1.000000\n",
       "75%        2.000000\n",
       "max       13.000000\n",
       "Name: Mosal, dtype: float64"
      ]
     },
     "execution_count": 420,
     "metadata": {},
     "output_type": "execute_result"
    }
   ],
   "source": [
    "df.Mosal.describe()"
   ]
  },
  {
   "cell_type": "markdown",
   "id": "c699e319-9db8-44a1-83e8-65b340365d86",
   "metadata": {},
   "source": [
    "There's one NaN value in Father's Age column, Others columns are clean."
   ]
  },
  {
   "cell_type": "code",
   "execution_count": 421,
   "id": "40bc5eea-f593-4d34-b0b1-3d543a668fd8",
   "metadata": {},
   "outputs": [
    {
     "name": "stdout",
     "output_type": "stream",
     "text": [
      "count    343.000000\n",
      "mean       1.058309\n",
      "std        0.269469\n",
      "min        1.000000\n",
      "25%        1.000000\n",
      "50%        1.000000\n",
      "75%        1.000000\n",
      "max        3.000000\n",
      "Name: Stay, dtype: float64\n"
     ]
    },
    {
     "data": {
      "text/plain": [
       "array([1, 2, 3], dtype=int64)"
      ]
     },
     "execution_count": 421,
     "metadata": {},
     "output_type": "execute_result"
    }
   ],
   "source": [
    "print(df.Stay.describe())\n",
    "df.Stay.unique()"
   ]
  },
  {
   "cell_type": "code",
   "execution_count": 422,
   "id": "b60b3209-4360-457b-8900-3273cad5f035",
   "metadata": {},
   "outputs": [
    {
     "name": "stdout",
     "output_type": "stream",
     "text": [
      "count     340\n",
      "unique     14\n",
      "top         1\n",
      "freq      204\n",
      "Name: Famtyp, dtype: object\n"
     ]
    },
    {
     "data": {
      "text/plain": [
       "array(['1', '3', '2', '4', 'Two parents with two child', '5', 'Parents ',\n",
       "       '1 father 1 mother ', nan, \"Mother's and father two child\",\n",
       "       \"Parent's (mother and father)and with siblings (elder sister and younger brother)\",\n",
       "       'Parent, one elder sister, and me',\n",
       "       'Live with father and mother and one child',\n",
       "       'Joint family consists of 11 members',\n",
       "       'They have father mother an two children'], dtype=object)"
      ]
     },
     "execution_count": 422,
     "metadata": {},
     "output_type": "execute_result"
    }
   ],
   "source": [
    "print(df.Famtyp.describe())\n",
    "df.Famtyp.unique()"
   ]
  },
  {
   "cell_type": "markdown",
   "id": "3529bb95-e499-49c9-b654-32b2a0f1085b",
   "metadata": {},
   "source": [
    "Only 5 values are to be assigned in this column i.e. 1 to 5, But we have lots of unnecessary values which have to grouped with the 5 values.\n"
   ]
  },
  {
   "cell_type": "code",
   "execution_count": 423,
   "id": "a273e0e3-2c62-45d4-8230-5d4ce37c7240",
   "metadata": {},
   "outputs": [],
   "source": [
    "dic={\n",
    "    'Two parents with two child': '1',\n",
    "    'Parents ':'1',\n",
    "    '1 father 1 mother ':  '1',\n",
    "    \"Mother's and father two child\" : '1',\n",
    "    \"Parent's (mother and father)and with siblings (elder sister and younger brother)\" : '4', \n",
    "    'Parent, one elder sister, and me' : '1', \n",
    "    'Live with father and mother and one child' : '1',\n",
    "    'Joint family consists of 11 members': '4',\n",
    "    'They have father mother an two children': '1'\n",
    "}"
   ]
  },
  {
   "cell_type": "code",
   "execution_count": 424,
   "id": "21dd29ce-86aa-4e21-a3e5-2fdfcd209163",
   "metadata": {},
   "outputs": [
    {
     "name": "stdout",
     "output_type": "stream",
     "text": [
      "count     340\n",
      "unique      5\n",
      "top         1\n",
      "freq      211\n",
      "Name: Famtyp, dtype: object\n"
     ]
    },
    {
     "data": {
      "text/plain": [
       "array(['1', '3', '2', '4', '5', nan], dtype=object)"
      ]
     },
     "execution_count": 424,
     "metadata": {},
     "output_type": "execute_result"
    }
   ],
   "source": [
    "df.replace(dic,inplace=True)\n",
    "print(df.Famtyp.describe())\n",
    "df.Famtyp.unique()"
   ]
  },
  {
   "cell_type": "code",
   "execution_count": 425,
   "id": "80615ae0-97fa-4d11-8067-46fdbe1b9c65",
   "metadata": {},
   "outputs": [
    {
     "data": {
      "text/html": [
       "<div>\n",
       "<style scoped>\n",
       "    .dataframe tbody tr th:only-of-type {\n",
       "        vertical-align: middle;\n",
       "    }\n",
       "\n",
       "    .dataframe tbody tr th {\n",
       "        vertical-align: top;\n",
       "    }\n",
       "\n",
       "    .dataframe thead th {\n",
       "        text-align: right;\n",
       "    }\n",
       "</style>\n",
       "<table border=\"1\" class=\"dataframe\">\n",
       "  <thead>\n",
       "    <tr style=\"text-align: right;\">\n",
       "      <th></th>\n",
       "      <th>Famtyp</th>\n",
       "      <th>Count</th>\n",
       "      <th>Sib</th>\n",
       "    </tr>\n",
       "  </thead>\n",
       "  <tbody>\n",
       "    <tr>\n",
       "      <th>118</th>\n",
       "      <td>NaN</td>\n",
       "      <td>4</td>\n",
       "      <td>1</td>\n",
       "    </tr>\n",
       "    <tr>\n",
       "      <th>195</th>\n",
       "      <td>NaN</td>\n",
       "      <td>13</td>\n",
       "      <td>3</td>\n",
       "    </tr>\n",
       "    <tr>\n",
       "      <th>324</th>\n",
       "      <td>NaN</td>\n",
       "      <td>7</td>\n",
       "      <td>2</td>\n",
       "    </tr>\n",
       "  </tbody>\n",
       "</table>\n",
       "</div>"
      ],
      "text/plain": [
       "    Famtyp  Count  Sib\n",
       "118    NaN      4    1\n",
       "195    NaN     13    3\n",
       "324    NaN      7    2"
      ]
     },
     "execution_count": 425,
     "metadata": {},
     "output_type": "execute_result"
    }
   ],
   "source": [
    "df[df.Famtyp.isnull()][['Famtyp','Count','Sib']]"
   ]
  },
  {
   "cell_type": "markdown",
   "id": "3dfca1bd-e958-4d9f-a25c-a3d7d2cd0077",
   "metadata": {},
   "source": [
    "There are 3 Nan values. Considering the Count and Sib Columns we can somewhat guess and fill the null values."
   ]
  },
  {
   "cell_type": "code",
   "execution_count": 426,
   "id": "fadd44cd-6752-42ab-b651-3273a12fc955",
   "metadata": {},
   "outputs": [],
   "source": [
    "df.loc[118,'Famtyp']='1'\n",
    "df.loc[195,'Famtyp']='4'\n",
    "df.loc[324,'Famtyp']='4'"
   ]
  },
  {
   "cell_type": "code",
   "execution_count": 427,
   "id": "d13dcd6e-db9e-4f35-9297-6bec3c010969",
   "metadata": {},
   "outputs": [
    {
     "name": "stdout",
     "output_type": "stream",
     "text": [
      "count     343\n",
      "unique      5\n",
      "top         1\n",
      "freq      212\n",
      "Name: Famtyp, dtype: object\n"
     ]
    },
    {
     "data": {
      "text/plain": [
       "array(['1', '3', '2', '4', '5'], dtype=object)"
      ]
     },
     "execution_count": 427,
     "metadata": {},
     "output_type": "execute_result"
    }
   ],
   "source": [
    "print(df.Famtyp.describe())\n",
    "df.Famtyp.unique()"
   ]
  },
  {
   "cell_type": "markdown",
   "id": "976f5d4f-ac45-4d38-84a1-f9c2789b307f",
   "metadata": {},
   "source": [
    "NaN values have been replaced successfully."
   ]
  },
  {
   "cell_type": "code",
   "execution_count": 428,
   "id": "2ae53b92-8720-479b-af29-affa46d04ed9",
   "metadata": {},
   "outputs": [
    {
     "name": "stdout",
     "output_type": "stream",
     "text": [
      "count    343.000000\n",
      "mean       4.451895\n",
      "std        1.183409\n",
      "min        2.000000\n",
      "25%        4.000000\n",
      "50%        4.000000\n",
      "75%        5.000000\n",
      "max       13.000000\n",
      "Name: Count, dtype: float64\n"
     ]
    },
    {
     "data": {
      "text/plain": [
       "array([ 3,  4,  6,  5,  7,  2,  8, 13, 11], dtype=int64)"
      ]
     },
     "execution_count": 428,
     "metadata": {},
     "output_type": "execute_result"
    }
   ],
   "source": [
    "print(df.Count.describe())\n",
    "df.Count.unique()"
   ]
  },
  {
   "cell_type": "code",
   "execution_count": 429,
   "id": "5e1949be-9286-4a5e-a974-b93cb086046f",
   "metadata": {},
   "outputs": [
    {
     "name": "stdout",
     "output_type": "stream",
     "text": [
      "count    343.000000\n",
      "mean       1.883382\n",
      "std        0.560219\n",
      "min        1.000000\n",
      "25%        2.000000\n",
      "50%        2.000000\n",
      "75%        2.000000\n",
      "max        8.000000\n",
      "Name: Pamas, dtype: float64\n"
     ]
    },
    {
     "data": {
      "text/plain": [
       "array([2, 1, 8, 7], dtype=int64)"
      ]
     },
     "execution_count": 429,
     "metadata": {},
     "output_type": "execute_result"
    }
   ],
   "source": [
    "print(df.Pamas.describe())\n",
    "df.Pamas.unique()"
   ]
  },
  {
   "cell_type": "code",
   "execution_count": 430,
   "id": "eabff194-23d3-4b56-8a62-4aee69ce9bcc",
   "metadata": {},
   "outputs": [
    {
     "data": {
      "text/html": [
       "<div>\n",
       "<style scoped>\n",
       "    .dataframe tbody tr th:only-of-type {\n",
       "        vertical-align: middle;\n",
       "    }\n",
       "\n",
       "    .dataframe tbody tr th {\n",
       "        vertical-align: top;\n",
       "    }\n",
       "\n",
       "    .dataframe thead th {\n",
       "        text-align: right;\n",
       "    }\n",
       "</style>\n",
       "<table border=\"1\" class=\"dataframe\">\n",
       "  <thead>\n",
       "    <tr style=\"text-align: right;\">\n",
       "      <th></th>\n",
       "      <th>Count</th>\n",
       "      <th>Pamas</th>\n",
       "    </tr>\n",
       "  </thead>\n",
       "  <tbody>\n",
       "    <tr>\n",
       "      <th>146</th>\n",
       "      <td>8</td>\n",
       "      <td>8</td>\n",
       "    </tr>\n",
       "    <tr>\n",
       "      <th>324</th>\n",
       "      <td>7</td>\n",
       "      <td>7</td>\n",
       "    </tr>\n",
       "  </tbody>\n",
       "</table>\n",
       "</div>"
      ],
      "text/plain": [
       "     Count  Pamas\n",
       "146      8      8\n",
       "324      7      7"
      ]
     },
     "execution_count": 430,
     "metadata": {},
     "output_type": "execute_result"
    }
   ],
   "source": [
    "df[(df.Pamas==8 )| (df.Pamas ==7)][['Count','Pamas']]"
   ]
  },
  {
   "cell_type": "markdown",
   "id": "a36963e8-3730-4994-b674-92c18cce5e2a",
   "metadata": {},
   "source": [
    "These 2 students must have accidentally entered the same values for the columns Count and Pamas, we can't guess the correct values as there is no sufficient information about there parent's relationship. Hence we give them someother value which is not in Pamas. We'll use 0."
   ]
  },
  {
   "cell_type": "code",
   "execution_count": 431,
   "id": "b79d8d68-b295-4934-b6d5-f6b6396648f3",
   "metadata": {},
   "outputs": [],
   "source": [
    "df['Pamas'].replace({8: 0,7: 0},inplace=True)"
   ]
  },
  {
   "cell_type": "code",
   "execution_count": 432,
   "id": "c8334254-5765-4055-bbc9-8b7e6b0d629a",
   "metadata": {},
   "outputs": [
    {
     "name": "stdout",
     "output_type": "stream",
     "text": [
      "count    343.00000\n",
      "mean       1.83965\n",
      "std        0.38305\n",
      "min        0.00000\n",
      "25%        2.00000\n",
      "50%        2.00000\n",
      "75%        2.00000\n",
      "max        2.00000\n",
      "Name: Pamas, dtype: float64\n"
     ]
    },
    {
     "data": {
      "text/plain": [
       "array([2, 1, 0], dtype=int64)"
      ]
     },
     "execution_count": 432,
     "metadata": {},
     "output_type": "execute_result"
    }
   ],
   "source": [
    "print(df.Pamas.describe())\n",
    "df.Pamas.unique()"
   ]
  },
  {
   "cell_type": "code",
   "execution_count": 433,
   "id": "4f72b79b-3861-4c32-8905-40d1c7874b08",
   "metadata": {},
   "outputs": [
    {
     "name": "stdout",
     "output_type": "stream",
     "text": [
      "count    343.000000\n",
      "mean       4.454810\n",
      "std        1.117445\n",
      "min        1.000000\n",
      "25%        5.000000\n",
      "50%        5.000000\n",
      "75%        5.000000\n",
      "max        5.000000\n",
      "Name: Famrel, dtype: float64\n"
     ]
    },
    {
     "data": {
      "text/plain": [
       "array([5, 1, 2, 3, 4], dtype=int64)"
      ]
     },
     "execution_count": 433,
     "metadata": {},
     "output_type": "execute_result"
    }
   ],
   "source": [
    "print(df.Famrel.describe())\n",
    "df.Famrel.unique()"
   ]
  },
  {
   "cell_type": "code",
   "execution_count": 434,
   "id": "e419730e-57fd-488c-8623-a8b62450a4ec",
   "metadata": {},
   "outputs": [
    {
     "name": "stdout",
     "output_type": "stream",
     "text": [
      "count    343.000000\n",
      "mean       1.061224\n",
      "std        0.313974\n",
      "min        1.000000\n",
      "25%        1.000000\n",
      "50%        1.000000\n",
      "75%        1.000000\n",
      "max        3.000000\n",
      "Name: Loved, dtype: float64\n"
     ]
    },
    {
     "data": {
      "text/plain": [
       "array([1, 3, 2], dtype=int64)"
      ]
     },
     "execution_count": 434,
     "metadata": {},
     "output_type": "execute_result"
    }
   ],
   "source": [
    "print(df.Loved.describe())\n",
    "df.Loved.unique()"
   ]
  },
  {
   "cell_type": "code",
   "execution_count": 435,
   "id": "f2351fd7-df7e-4c6e-912e-ee247251f9f6",
   "metadata": {},
   "outputs": [
    {
     "name": "stdout",
     "output_type": "stream",
     "text": [
      "count    343.000000\n",
      "mean       4.338192\n",
      "std        1.233985\n",
      "min        1.000000\n",
      "25%        4.000000\n",
      "50%        5.000000\n",
      "75%        5.000000\n",
      "max        5.000000\n",
      "Name: Mosup, dtype: float64\n"
     ]
    },
    {
     "data": {
      "text/plain": [
       "array([5, 1, 4, 2, 3], dtype=int64)"
      ]
     },
     "execution_count": 435,
     "metadata": {},
     "output_type": "execute_result"
    }
   ],
   "source": [
    "print(df.Mosup.describe())\n",
    "df.Mosup.unique()"
   ]
  },
  {
   "cell_type": "code",
   "execution_count": 436,
   "id": "e576cb9a-0c38-4d7c-88d5-eb5841b2b6c2",
   "metadata": {},
   "outputs": [
    {
     "name": "stdout",
     "output_type": "stream",
     "text": [
      "count    343.000000\n",
      "mean       4.262391\n",
      "std        1.331561\n",
      "min        1.000000\n",
      "25%        4.000000\n",
      "50%        5.000000\n",
      "75%        5.000000\n",
      "max        5.000000\n",
      "Name: Fasup, dtype: float64\n"
     ]
    },
    {
     "data": {
      "text/plain": [
       "array([5, 1, 4, 2, 3], dtype=int64)"
      ]
     },
     "execution_count": 436,
     "metadata": {},
     "output_type": "execute_result"
    }
   ],
   "source": [
    "print(df.Fasup.describe())\n",
    "df.Fasup.unique()"
   ]
  },
  {
   "cell_type": "code",
   "execution_count": 437,
   "id": "a72f3f32-f577-45ca-a20a-82922fcd4ab2",
   "metadata": {},
   "outputs": [
    {
     "name": "stdout",
     "output_type": "stream",
     "text": [
      "count    343.000000\n",
      "mean       1.183673\n",
      "std        0.652096\n",
      "min        0.000000\n",
      "25%        1.000000\n",
      "50%        1.000000\n",
      "75%        1.000000\n",
      "max        3.000000\n",
      "Name: Sib, dtype: float64\n"
     ]
    },
    {
     "data": {
      "text/plain": [
       "array([0, 1, 3, 2], dtype=int64)"
      ]
     },
     "execution_count": 437,
     "metadata": {},
     "output_type": "execute_result"
    }
   ],
   "source": [
    "print(df.Sib.describe())\n",
    "df.Sib.unique()"
   ]
  },
  {
   "cell_type": "code",
   "execution_count": 438,
   "id": "9b4a2a3e-729d-4261-847d-48d902033ecb",
   "metadata": {},
   "outputs": [
    {
     "ename": "AttributeError",
     "evalue": "'DataFrame' object has no attribute 'Sibtyp'",
     "output_type": "error",
     "traceback": [
      "\u001b[1;31m---------------------------------------------------------------------------\u001b[0m",
      "\u001b[1;31mAttributeError\u001b[0m                            Traceback (most recent call last)",
      "\u001b[1;32m~\\AppData\\Local\\Temp\\ipykernel_36420\\3602012105.py\u001b[0m in \u001b[0;36m?\u001b[1;34m()\u001b[0m\n\u001b[1;32m----> 1\u001b[1;33m \u001b[0mprint\u001b[0m\u001b[1;33m(\u001b[0m\u001b[0mdf\u001b[0m\u001b[1;33m.\u001b[0m\u001b[0mSibtyp\u001b[0m\u001b[1;33m.\u001b[0m\u001b[0mdescribe\u001b[0m\u001b[1;33m(\u001b[0m\u001b[1;33m)\u001b[0m\u001b[1;33m)\u001b[0m\u001b[1;33m\u001b[0m\u001b[1;33m\u001b[0m\u001b[0m\n\u001b[0m\u001b[0;32m      2\u001b[0m \u001b[0mdf\u001b[0m\u001b[1;33m.\u001b[0m\u001b[0mSibtyp\u001b[0m\u001b[1;33m.\u001b[0m\u001b[0munique\u001b[0m\u001b[1;33m(\u001b[0m\u001b[1;33m)\u001b[0m\u001b[1;33m\u001b[0m\u001b[1;33m\u001b[0m\u001b[0m\n",
      "\u001b[1;32m~\\AppData\\Local\\Programs\\Python\\Python311\\Lib\\site-packages\\pandas\\core\\generic.py\u001b[0m in \u001b[0;36m?\u001b[1;34m(self, name)\u001b[0m\n\u001b[0;32m   5898\u001b[0m             \u001b[1;32mand\u001b[0m \u001b[0mname\u001b[0m \u001b[1;32mnot\u001b[0m \u001b[1;32min\u001b[0m \u001b[0mself\u001b[0m\u001b[1;33m.\u001b[0m\u001b[0m_accessors\u001b[0m\u001b[1;33m\u001b[0m\u001b[1;33m\u001b[0m\u001b[0m\n\u001b[0;32m   5899\u001b[0m             \u001b[1;32mand\u001b[0m \u001b[0mself\u001b[0m\u001b[1;33m.\u001b[0m\u001b[0m_info_axis\u001b[0m\u001b[1;33m.\u001b[0m\u001b[0m_can_hold_identifiers_and_holds_name\u001b[0m\u001b[1;33m(\u001b[0m\u001b[0mname\u001b[0m\u001b[1;33m)\u001b[0m\u001b[1;33m\u001b[0m\u001b[1;33m\u001b[0m\u001b[0m\n\u001b[0;32m   5900\u001b[0m         ):\n\u001b[0;32m   5901\u001b[0m             \u001b[1;32mreturn\u001b[0m \u001b[0mself\u001b[0m\u001b[1;33m[\u001b[0m\u001b[0mname\u001b[0m\u001b[1;33m]\u001b[0m\u001b[1;33m\u001b[0m\u001b[1;33m\u001b[0m\u001b[0m\n\u001b[1;32m-> 5902\u001b[1;33m         \u001b[1;32mreturn\u001b[0m \u001b[0mobject\u001b[0m\u001b[1;33m.\u001b[0m\u001b[0m__getattribute__\u001b[0m\u001b[1;33m(\u001b[0m\u001b[0mself\u001b[0m\u001b[1;33m,\u001b[0m \u001b[0mname\u001b[0m\u001b[1;33m)\u001b[0m\u001b[1;33m\u001b[0m\u001b[1;33m\u001b[0m\u001b[0m\n\u001b[0m",
      "\u001b[1;31mAttributeError\u001b[0m: 'DataFrame' object has no attribute 'Sibtyp'"
     ]
    }
   ],
   "source": [
    "print(df..describe())\n",
    "df..unique()"
   ]
  },
  {
   "cell_type": "code",
   "execution_count": null,
   "id": "9e793c1e-37bc-4087-9206-fcdd873c750e",
   "metadata": {},
   "outputs": [],
   "source": []
  },
  {
   "cell_type": "code",
   "execution_count": 381,
   "id": "9bdce07a-4df2-4001-a23f-b4fa4abba700",
   "metadata": {},
   "outputs": [
    {
     "name": "stdout",
     "output_type": "stream",
     "text": [
      "count     343\n",
      "unique      6\n",
      "top        No\n",
      "freq      302\n",
      "Name: Work, dtype: object\n"
     ]
    },
    {
     "data": {
      "text/plain": [
       "array(['No', 'Yes', 'Yes ', 'no', 'No ', 'N0'], dtype=object)"
      ]
     },
     "execution_count": 381,
     "metadata": {},
     "output_type": "execute_result"
    }
   ],
   "source": [
    "print(df.Work.describe())\n",
    "df.Work.unique()"
   ]
  },
  {
   "cell_type": "code",
   "execution_count": 382,
   "id": "2b9459e3-1dd8-48cc-bbe9-dc009a35393e",
   "metadata": {},
   "outputs": [],
   "source": [
    "dic={\n",
    "    \"Yes\":1,\n",
    "    \"Yes \":1,\n",
    "    'No':2, \n",
    "    'no':2, \n",
    "    'No ':2,\n",
    "    'N0':2\n",
    "}"
   ]
  },
  {
   "cell_type": "code",
   "execution_count": 384,
   "id": "c2b21bb7-98eb-41cb-ba02-1717dddff5e1",
   "metadata": {},
   "outputs": [
    {
     "data": {
      "text/plain": [
       "array([2, 1], dtype=int64)"
      ]
     },
     "execution_count": 384,
     "metadata": {},
     "output_type": "execute_result"
    }
   ],
   "source": [
    "df.Work.replace(dic,inplace=True)\n",
    "df.Work.unique()"
   ]
  },
  {
   "cell_type": "code",
   "execution_count": 321,
   "id": "8ae6dc64-a9d5-44d9-970f-be20b6f3136e",
   "metadata": {},
   "outputs": [
    {
     "name": "stdout",
     "output_type": "stream",
     "text": [
      "count    343.000000\n",
      "mean       1.058309\n",
      "std        0.269469\n",
      "min        1.000000\n",
      "25%        1.000000\n",
      "50%        1.000000\n",
      "75%        1.000000\n",
      "max        3.000000\n",
      "Name: Stay, dtype: float64\n"
     ]
    },
    {
     "data": {
      "text/plain": [
       "array([1, 2, 3], dtype=int64)"
      ]
     },
     "execution_count": 321,
     "metadata": {},
     "output_type": "execute_result"
    }
   ],
   "source": [
    "print(df..describe())\n",
    "df..unique()"
   ]
  },
  {
   "cell_type": "code",
   "execution_count": 321,
   "id": "263777a7-9c7b-4be5-9cf0-0cddba2e815b",
   "metadata": {},
   "outputs": [
    {
     "name": "stdout",
     "output_type": "stream",
     "text": [
      "count    343.000000\n",
      "mean       1.058309\n",
      "std        0.269469\n",
      "min        1.000000\n",
      "25%        1.000000\n",
      "50%        1.000000\n",
      "75%        1.000000\n",
      "max        3.000000\n",
      "Name: Stay, dtype: float64\n"
     ]
    },
    {
     "data": {
      "text/plain": [
       "array([1, 2, 3], dtype=int64)"
      ]
     },
     "execution_count": 321,
     "metadata": {},
     "output_type": "execute_result"
    }
   ],
   "source": [
    "print(df..describe())\n",
    "df..unique()"
   ]
  },
  {
   "cell_type": "code",
   "execution_count": 321,
   "id": "e7f2c7f8-4e0c-4667-b66b-a8419cd16b2f",
   "metadata": {},
   "outputs": [
    {
     "name": "stdout",
     "output_type": "stream",
     "text": [
      "count    343.000000\n",
      "mean       1.058309\n",
      "std        0.269469\n",
      "min        1.000000\n",
      "25%        1.000000\n",
      "50%        1.000000\n",
      "75%        1.000000\n",
      "max        3.000000\n",
      "Name: Stay, dtype: float64\n"
     ]
    },
    {
     "data": {
      "text/plain": [
       "array([1, 2, 3], dtype=int64)"
      ]
     },
     "execution_count": 321,
     "metadata": {},
     "output_type": "execute_result"
    }
   ],
   "source": [
    "print(df..describe())\n",
    "df..unique()"
   ]
  },
  {
   "cell_type": "code",
   "execution_count": null,
   "id": "9f9f2941-88dc-4b86-8a7a-86ca36ba84aa",
   "metadata": {},
   "outputs": [],
   "source": []
  },
  {
   "cell_type": "code",
   "execution_count": null,
   "id": "d0496241-92f4-4981-99a8-4c39df91ced7",
   "metadata": {},
   "outputs": [],
   "source": []
  }
 ],
 "metadata": {
  "kernelspec": {
   "display_name": "Python 3 (ipykernel)",
   "language": "python",
   "name": "python3"
  },
  "language_info": {
   "codemirror_mode": {
    "name": "ipython",
    "version": 3
   },
   "file_extension": ".py",
   "mimetype": "text/x-python",
   "name": "python",
   "nbconvert_exporter": "python",
   "pygments_lexer": "ipython3",
   "version": "3.11.3"
  }
 },
 "nbformat": 4,
 "nbformat_minor": 5
}
